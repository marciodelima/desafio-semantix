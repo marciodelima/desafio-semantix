{
 "cells": [
  {
   "cell_type": "markdown",
   "metadata": {},
   "source": [
    "### Processamento de Arquivos de LOGs com Spark - 02/2020\n",
    "### MARCIO DE LIMA\n",
    "\n",
    "### DADOS Fornecidos\n",
    "\n",
    "Fonte oficial do dataset: http://ita.ee.lbl.gov/html/contrib/NASA-HTTP.html\n",
    "\n",
    "Os dois conjuntos de dados possuem todas as requisições HTTP para o servidor da NASA Kennedy\n",
    "Space Center WWW na Flórida para um período específico.\n",
    "\n",
    "### Colunas \n",
    "Arquivos em ASCII com as colunas:\n",
    "\n",
    "Host , um hostname quando possível, caso contrário o endereço de internet se o nome não puder ser  identificado.\n",
    "\n",
    "Timestamp no formato \"DIA/MÊS/ANO:HH:MM:SS TIMEZONE\"\n",
    "\n",
    "Requisição (entre aspas)\n",
    "\n",
    "Código do retorno HTTP\n",
    "\n",
    "Total de bytes retornados\n",
    "\n"
   ]
  },
  {
   "cell_type": "markdown",
   "metadata": {},
   "source": [
    "## *********** Atenção: *********** \n",
    "Ambiente de Desenvolvimento desse fonte: Linux, Java JDK 8 , Apache Spark 2.4.3 e Python 3.7 com Jupyter LAB."
   ]
  },
  {
   "cell_type": "code",
   "execution_count": 1,
   "metadata": {},
   "outputs": [],
   "source": [
    "#Importando as bibliotecas\n",
    "from pyspark import SparkConf, SparkContext\n",
    "from pyspark.sql import SQLContext\n",
    "from pyspark.sql import Row\n"
   ]
  },
  {
   "cell_type": "code",
   "execution_count": 2,
   "metadata": {},
   "outputs": [],
   "source": [
    "# Define o Spark Context, pois o job será executado via linha de comando com o spark-submit\n",
    "conf = SparkConf().setMaster(\"local\").setAppName(\"DesafioSpark\")\n",
    "sc = SparkContext(conf = conf)\n"
   ]
  },
  {
   "cell_type": "code",
   "execution_count": 3,
   "metadata": {},
   "outputs": [],
   "source": [
    "# Criando o SQL Context para trabalhar com Spark SQL\n",
    "sqlContext = SQLContext(sc)"
   ]
  },
  {
   "cell_type": "code",
   "execution_count": 4,
   "metadata": {},
   "outputs": [
    {
     "name": "stdout",
     "output_type": "stream",
     "text": [
      "2.4.3\n"
     ]
    }
   ],
   "source": [
    "#Versão do Spark utilizada\n",
    "print(sc.version)"
   ]
  },
  {
   "cell_type": "code",
   "execution_count": 5,
   "metadata": {},
   "outputs": [],
   "source": [
    "# Criando os RDDs a partir dos arquivos fornecidos, enconding => iso-8859-1\n",
    "logJulRDD = sc.textFile(\"dados/NASA_access_log_Jul95\", use_unicode=False).map(lambda x: x.decode(\"iso-8859-1\"))\n",
    "logAgoRDD = sc.textFile(\"dados/NASA_access_log_Aug95\", use_unicode=False).map(lambda x: x.decode(\"iso-8859-1\"))"
   ]
  },
  {
   "cell_type": "code",
   "execution_count": 6,
   "metadata": {},
   "outputs": [],
   "source": [
    "#Juntando os dois RDDs em 1 único RDD\n",
    "joinedLinhas = logJulRDD.union(logAgoRDD)"
   ]
  },
  {
   "cell_type": "code",
   "execution_count": 7,
   "metadata": {},
   "outputs": [
    {
     "data": {
      "text/plain": [
       "3461613"
      ]
     },
     "execution_count": 7,
     "metadata": {},
     "output_type": "execute_result"
    }
   ],
   "source": [
    "#Contagem de Linhas de LOG\n",
    "joinedLinhas.count()"
   ]
  },
  {
   "cell_type": "code",
   "execution_count": 8,
   "metadata": {},
   "outputs": [],
   "source": [
    "# O Join insere 1 linha em branco no final do arquivo, alem disso, o arquivo pode conter linhas inválidas\n",
    "joinedLinhasL = joinedLinhas.filter(lambda linha: linha != '')"
   ]
  },
  {
   "cell_type": "code",
   "execution_count": 9,
   "metadata": {},
   "outputs": [
    {
     "data": {
      "text/plain": [
       "['199.72.81.55 - - [01/Jul/1995:00:00:01 -0400] \"GET /history/apollo/ HTTP/1.0\" 200 6245',\n",
       " 'unicomp6.unicomp.net - - [01/Jul/1995:00:00:06 -0400] \"GET /shuttle/countdown/ HTTP/1.0\" 200 3985',\n",
       " '199.120.110.21 - - [01/Jul/1995:00:00:09 -0400] \"GET /shuttle/missions/sts-73/mission-sts-73.html HTTP/1.0\" 200 4085',\n",
       " 'burger.letters.com - - [01/Jul/1995:00:00:11 -0400] \"GET /shuttle/countdown/liftoff.html HTTP/1.0\" 304 0',\n",
       " '199.120.110.21 - - [01/Jul/1995:00:00:11 -0400] \"GET /shuttle/missions/sts-73/sts-73-patch-small.gif HTTP/1.0\" 200 4179',\n",
       " 'burger.letters.com - - [01/Jul/1995:00:00:12 -0400] \"GET /images/NASA-logosmall.gif HTTP/1.0\" 304 0',\n",
       " 'burger.letters.com - - [01/Jul/1995:00:00:12 -0400] \"GET /shuttle/countdown/video/livevideo.gif HTTP/1.0\" 200 0',\n",
       " '205.212.115.106 - - [01/Jul/1995:00:00:12 -0400] \"GET /shuttle/countdown/countdown.html HTTP/1.0\" 200 3985',\n",
       " 'd104.aa.net - - [01/Jul/1995:00:00:13 -0400] \"GET /shuttle/countdown/ HTTP/1.0\" 200 3985',\n",
       " '129.94.144.152 - - [01/Jul/1995:00:00:13 -0400] \"GET / HTTP/1.0\" 200 7074']"
      ]
     },
     "execution_count": 9,
     "metadata": {},
     "output_type": "execute_result"
    }
   ],
   "source": [
    "joinedLinhasL.take(10)"
   ]
  },
  {
   "cell_type": "code",
   "execution_count": 10,
   "metadata": {},
   "outputs": [],
   "source": [
    "# Limpando a memória\n",
    "del joinedLinhas, logJulRDD, logAgoRDD"
   ]
  },
  {
   "cell_type": "code",
   "execution_count": 11,
   "metadata": {},
   "outputs": [
    {
     "data": {
      "text/plain": [
       "PythonRDD[9] at RDD at PythonRDD.scala:53"
      ]
     },
     "execution_count": 11,
     "metadata": {},
     "output_type": "execute_result"
    }
   ],
   "source": [
    "#Persistindo na memória\n",
    "joinedLinhasL.persist()\n",
    "joinedLinhasL.cache()"
   ]
  },
  {
   "cell_type": "code",
   "execution_count": 12,
   "metadata": {},
   "outputs": [],
   "source": [
    "#Função de limpeza e tratamento dos dados, linha a linha\n",
    "def prepararDados(linha): \n",
    "    \n",
    "    attList = linha.split('\\\"')\n",
    "    attList_1 = attList[0].split(\" \") \n",
    "\n",
    "    try:\n",
    "        data = attList_1[3].strip()[1:7] if attList_1[3] != '' else '' \n",
    "        erro_data = 0\n",
    "    except:\n",
    "        data = '01/Jan'\n",
    "        erro_data = 1\n",
    "    finally:{}\n",
    "\n",
    "    try:\n",
    "        attList_2 = linha.split('/1.0\\\"')[1].split(\" \")\n",
    "        httpCode = attList_2[1].strip() if attList_2[1] != '-' and attList_2[1] != '' else '0' \n",
    "        erro_httpCode = 0\n",
    "    except:\n",
    "        httpCode = '0' \n",
    "        erro_httpCode = 1\n",
    "    finally:{}\n",
    "\n",
    "    try:\n",
    "        attList_2 = linha.split('/1.0\\\"')[1].split(\" \")\n",
    "        bytesTransf = attList_2[2].strip() if attList_2[2] != '-' else '0'\n",
    "        erro_bytes = 0\n",
    "    except:\n",
    "        bytesTransf = '0'\n",
    "        erro_bytes = 1\n",
    "    finally:{}\n",
    "\n",
    "    host = attList_1[0].strip() if attList_1[0] != '' else '' \n",
    "\n",
    "    try:\n",
    "        url = attList[1].replace(\"GET \",\"\").replace(\" HTTP/1.0\",\"\").strip()\n",
    "        erro_url = 0\n",
    "    except:\n",
    "        url = ''\n",
    "        erro_url = 1\n",
    "    finally:{}\n",
    "    \n",
    "    valores = Row(Host = host, Data = data, HttpCode = int(httpCode), Bytes = int(bytesTransf), Url = url, ErroConversaoData=erro_data,ErroConversaoUrl=erro_url, ErroConversaoHttp=erro_httpCode, ErroConversaoBytes=erro_bytes)\n",
    "    return valores    \n"
   ]
  },
  {
   "cell_type": "code",
   "execution_count": 13,
   "metadata": {},
   "outputs": [],
   "source": [
    "# Aplicando a função em todo o dataSet\n",
    "joinedLinhasLimpo = joinedLinhasL.map(prepararDados)"
   ]
  },
  {
   "cell_type": "code",
   "execution_count": 14,
   "metadata": {},
   "outputs": [
    {
     "data": {
      "text/plain": [
       "PythonRDD[10] at RDD at PythonRDD.scala:53"
      ]
     },
     "execution_count": 14,
     "metadata": {},
     "output_type": "execute_result"
    }
   ],
   "source": [
    "#Persistindo na memória\n",
    "joinedLinhasLimpo.persist()\n",
    "joinedLinhasLimpo.cache()"
   ]
  },
  {
   "cell_type": "code",
   "execution_count": 15,
   "metadata": {},
   "outputs": [],
   "source": [
    "# Criando DataFrame\n",
    "df = sqlContext.createDataFrame(joinedLinhasLimpo)"
   ]
  },
  {
   "cell_type": "code",
   "execution_count": 16,
   "metadata": {},
   "outputs": [],
   "source": [
    "# Criando DataFrame\n",
    "df = sqlContext.createDataFrame(joinedLinhasLimpo)\n",
    "# Zerando valores NA , caso existam\n",
    "data_df = df.fillna(0)"
   ]
  },
  {
   "cell_type": "code",
   "execution_count": 17,
   "metadata": {},
   "outputs": [
    {
     "name": "stdout",
     "output_type": "stream",
     "text": [
      "+-----+------+------------------+-----------------+-----------------+----------------+--------------------+--------+--------------------+\n",
      "|Bytes|  Data|ErroConversaoBytes|ErroConversaoData|ErroConversaoHttp|ErroConversaoUrl|                Host|HttpCode|                 Url|\n",
      "+-----+------+------------------+-----------------+-----------------+----------------+--------------------+--------+--------------------+\n",
      "| 6245|01/Jul|                 0|                0|                0|               0|        199.72.81.55|     200|    /history/apollo/|\n",
      "| 3985|01/Jul|                 0|                0|                0|               0|unicomp6.unicomp.net|     200| /shuttle/countdown/|\n",
      "| 4085|01/Jul|                 0|                0|                0|               0|      199.120.110.21|     200|/shuttle/missions...|\n",
      "|    0|01/Jul|                 0|                0|                0|               0|  burger.letters.com|     304|/shuttle/countdow...|\n",
      "| 4179|01/Jul|                 0|                0|                0|               0|      199.120.110.21|     200|/shuttle/missions...|\n",
      "|    0|01/Jul|                 0|                0|                0|               0|  burger.letters.com|     304|/images/NASA-logo...|\n",
      "|    0|01/Jul|                 0|                0|                0|               0|  burger.letters.com|     200|/shuttle/countdow...|\n",
      "| 3985|01/Jul|                 0|                0|                0|               0|     205.212.115.106|     200|/shuttle/countdow...|\n",
      "| 3985|01/Jul|                 0|                0|                0|               0|         d104.aa.net|     200| /shuttle/countdown/|\n",
      "| 7074|01/Jul|                 0|                0|                0|               0|      129.94.144.152|     200|                   /|\n",
      "|40310|01/Jul|                 0|                0|                0|               0|unicomp6.unicomp.net|     200|/shuttle/countdow...|\n",
      "|  786|01/Jul|                 0|                0|                0|               0|unicomp6.unicomp.net|     200|/images/NASA-logo...|\n",
      "| 1204|01/Jul|                 0|                0|                0|               0|unicomp6.unicomp.net|     200|/images/KSC-logos...|\n",
      "|40310|01/Jul|                 0|                0|                0|               0|         d104.aa.net|     200|/shuttle/countdow...|\n",
      "|  786|01/Jul|                 0|                0|                0|               0|         d104.aa.net|     200|/images/NASA-logo...|\n",
      "| 1204|01/Jul|                 0|                0|                0|               0|         d104.aa.net|     200|/images/KSC-logos...|\n",
      "|    0|01/Jul|                 0|                0|                0|               0|      129.94.144.152|     304|/images/ksclogo-m...|\n",
      "| 1713|01/Jul|                 0|                0|                0|               0|      199.120.110.21|     200|/images/launch-lo...|\n",
      "| 3977|01/Jul|                 0|                0|                0|               0|ppptky391.asahi-n...|     200|/facts/about_ksc....|\n",
      "|34029|01/Jul|                 0|                0|                0|               0|  net-1-141.eden.com|     200|/shuttle/missions...|\n",
      "+-----+------+------------------+-----------------+-----------------+----------------+--------------------+--------+--------------------+\n",
      "only showing top 20 rows\n",
      "\n"
     ]
    }
   ],
   "source": [
    "# Mostrando e colocando no cache os dados\n",
    "data_df.persist()\n",
    "data_df.cache()\n",
    "\n",
    "# Limpando a memória\n",
    "del joinedLinhasLimpo, df\n",
    "\n",
    "data_df.show()"
   ]
  },
  {
   "cell_type": "code",
   "execution_count": 18,
   "metadata": {},
   "outputs": [],
   "source": [
    "# Registrando o dataframe como uma Temp Table para a execução dos SQLs\n",
    "data_df.createOrReplaceTempView(\"linhasTB\")"
   ]
  },
  {
   "cell_type": "markdown",
   "metadata": {},
   "source": [
    "### Questões"
   ]
  },
  {
   "cell_type": "markdown",
   "metadata": {},
   "source": [
    "### 1) Número de hosts únicos"
   ]
  },
  {
   "cell_type": "code",
   "execution_count": 19,
   "metadata": {},
   "outputs": [
    {
     "data": {
      "text/plain": [
       "137979"
      ]
     },
     "execution_count": 19,
     "metadata": {},
     "output_type": "execute_result"
    }
   ],
   "source": [
    "joinedLinhasL.map(lambda linha: linha.split(\" \")[0]).distinct().count()"
   ]
  },
  {
   "cell_type": "markdown",
   "metadata": {},
   "source": [
    "### Resposta: 137979 hosts"
   ]
  },
  {
   "cell_type": "markdown",
   "metadata": {},
   "source": [
    "### 2) O total de erros 404"
   ]
  },
  {
   "cell_type": "code",
   "execution_count": 20,
   "metadata": {},
   "outputs": [
    {
     "name": "stdout",
     "output_type": "stream",
     "text": [
      "+---------+\n",
      "|resultado|\n",
      "+---------+\n",
      "|    20698|\n",
      "+---------+\n",
      "\n"
     ]
    }
   ],
   "source": [
    "sqlContext.sql(\"select count(Host) as resultado from linhasTB where HttpCode = '404'\").show()"
   ]
  },
  {
   "cell_type": "markdown",
   "metadata": {},
   "source": [
    "### Resposta: 20698 erros"
   ]
  },
  {
   "cell_type": "markdown",
   "metadata": {},
   "source": [
    "### 3) Os 5 URLs que mais causaram erro 404"
   ]
  },
  {
   "cell_type": "code",
   "execution_count": 21,
   "metadata": {},
   "outputs": [],
   "source": [
    "# Executando SQL - Top 5\n",
    "consulta = sqlContext.sql(\"select Url as url , count(HttpCode) as resultado from linhasTB where HttpCode = '404' GROUP BY Url ORDER BY resultado desc\").limit(5)"
   ]
  },
  {
   "cell_type": "code",
   "execution_count": 22,
   "metadata": {},
   "outputs": [
    {
     "data": {
      "text/plain": [
       "[Row(url='/pub/winvn/readme.txt', resultado=2004),\n",
       " Row(url='/pub/winvn/release.txt', resultado=1732),\n",
       " Row(url='/shuttle/missions/STS-69/mission-STS-69.html', resultado=682),\n",
       " Row(url='/shuttle/missions/sts-68/ksc-upclose.gif', resultado=426),\n",
       " Row(url='/history/apollo/a-001/a-001-patch-small.gif', resultado=384)]"
      ]
     },
     "execution_count": 22,
     "metadata": {},
     "output_type": "execute_result"
    }
   ],
   "source": [
    "consulta.take(10)"
   ]
  },
  {
   "cell_type": "code",
   "execution_count": 23,
   "metadata": {},
   "outputs": [
    {
     "name": "stdout",
     "output_type": "stream",
     "text": [
      "+--------------------+---------+\n",
      "|                 url|resultado|\n",
      "+--------------------+---------+\n",
      "|/pub/winvn/readme...|     2004|\n",
      "|/pub/winvn/releas...|     1732|\n",
      "|/shuttle/missions...|      682|\n",
      "|/shuttle/missions...|      426|\n",
      "|/history/apollo/a...|      384|\n",
      "+--------------------+---------+\n",
      "\n"
     ]
    }
   ],
   "source": [
    "consulta.show()"
   ]
  },
  {
   "cell_type": "markdown",
   "metadata": {},
   "source": [
    "### Resposta: \n",
    "\n",
    "/pub/winvn/readme.txt\n",
    "\n",
    "/pub/winvn/release.txt\n",
    "\n",
    "/shuttle/missions/STS-69/mission-STS-69.html\n",
    "\n",
    "/shuttle/missions/sts-68/ksc-upclose.gif\n",
    "\n",
    "/history/apollo/a-001/a-001-patch-small.gif"
   ]
  },
  {
   "cell_type": "markdown",
   "metadata": {},
   "source": [
    "### 4) Quantidade de erros 404 por dia"
   ]
  },
  {
   "cell_type": "code",
   "execution_count": 24,
   "metadata": {},
   "outputs": [
    {
     "name": "stdout",
     "output_type": "stream",
     "text": [
      "+------+---------+\n",
      "|  Data|resultado|\n",
      "+------+---------+\n",
      "|01/Aug|      242|\n",
      "|01/Jul|      315|\n",
      "|02/Jul|      291|\n",
      "|03/Aug|      300|\n",
      "|03/Jul|      473|\n",
      "|04/Aug|      343|\n",
      "|04/Jul|      355|\n",
      "|05/Aug|      232|\n",
      "|05/Jul|      492|\n",
      "|06/Aug|      371|\n",
      "|06/Jul|      633|\n",
      "|07/Aug|      526|\n",
      "|07/Jul|      568|\n",
      "|08/Aug|      386|\n",
      "|08/Jul|      302|\n",
      "|09/Aug|      277|\n",
      "|09/Jul|      342|\n",
      "|10/Aug|      312|\n",
      "|10/Jul|      392|\n",
      "|11/Aug|      260|\n",
      "+------+---------+\n",
      "only showing top 20 rows\n",
      "\n"
     ]
    }
   ],
   "source": [
    "# Executando SQL - Quantidade de erros 404 por dia\n",
    "sqlContext.sql(\"select Data, count(HttpCode) as resultado from linhasTB where HttpCode = '404' GROUP BY Data ORDER BY Data\").show()"
   ]
  },
  {
   "cell_type": "markdown",
   "metadata": {},
   "source": [
    "### Resposta: \n",
    "+------+---------+\n",
    "\n",
    "|  Data|resultado|\n",
    "\n",
    "+------+---------+\n",
    "\n",
    "|01/Aug|      242|\n",
    "\n",
    "|01/Jul|      315|\n",
    "\n",
    "|02/Jul|      291|\n",
    "\n",
    "|03/Aug|      300|\n",
    "\n",
    "|03/Jul|      473|\n",
    "\n",
    "|04/Aug|      343|\n",
    "\n",
    "|04/Jul|      355|\n",
    "\n",
    "|05/Aug|      232|\n",
    "\n",
    "|05/Jul|      492|\n",
    "\n",
    "|06/Aug|      371|\n",
    "\n",
    "|06/Jul|      633|\n",
    "\n",
    "|07/Aug|      526|\n",
    "\n",
    "|07/Jul|      568|\n",
    "\n",
    "|08/Aug|      386|\n",
    "\n",
    "|08/Jul|      302|\n",
    "\n",
    "|09/Aug|      277|\n",
    "\n",
    "|09/Jul|      342|\n",
    "\n",
    "|10/Aug|      312|\n",
    "\n",
    "|10/Jul|      392|\n",
    "\n",
    "|11/Aug|      260|\n",
    "\n",
    "+------+---------+\n",
    "\n",
    "only showing top 20 rows\n"
   ]
  },
  {
   "cell_type": "markdown",
   "metadata": {},
   "source": [
    "### 5) O total de bytes retornados"
   ]
  },
  {
   "cell_type": "code",
   "execution_count": 25,
   "metadata": {},
   "outputs": [
    {
     "data": {
      "text/plain": [
       "65401233313"
      ]
     },
     "execution_count": 25,
     "metadata": {},
     "output_type": "execute_result"
    }
   ],
   "source": [
    "data_df.groupBy().sum().collect()[0][0]"
   ]
  },
  {
   "cell_type": "markdown",
   "metadata": {},
   "source": [
    "### Resposta: 65401233313 bytes"
   ]
  },
  {
   "cell_type": "code",
   "execution_count": 26,
   "metadata": {},
   "outputs": [
    {
     "name": "stdout",
     "output_type": "stream",
     "text": [
      "+-----------+\n",
      "|  resultado|\n",
      "+-----------+\n",
      "|65401233313|\n",
      "+-----------+\n",
      "\n"
     ]
    }
   ],
   "source": [
    "# Executando SQL com a Resposta da Soma Total de Bytes\n",
    "sqlContext.sql(\"select sum(Bytes) as resultado from linhasTB\").show()"
   ]
  },
  {
   "cell_type": "code",
   "execution_count": 27,
   "metadata": {},
   "outputs": [],
   "source": [
    "# Limpando a memória\n",
    "del joinedLinhasL, data_df"
   ]
  },
  {
   "cell_type": "markdown",
   "metadata": {},
   "source": [
    "### PROBLEMAS NAS CONVERSÕES DE LINHAS ###\n",
    "\n",
    "Necessário análise do arquivo para verificar os motivos e as inconsistências. Foi decidido por mim, nesse desafio ignorar essas linhas e processar as demais. "
   ]
  },
  {
   "cell_type": "code",
   "execution_count": 28,
   "metadata": {},
   "outputs": [
    {
     "name": "stdout",
     "output_type": "stream",
     "text": [
      "+-----+\n",
      "|erros|\n",
      "+-----+\n",
      "| 6539|\n",
      "+-----+\n",
      "\n"
     ]
    }
   ],
   "source": [
    "sqlContext.sql(\"select count(*) as erros from linhasTB WHERE ErroConversaoBytes > 0 or ErroConversaoData > 0 or ErroConversaoHttp >0 or ErroConversaoUrl > 0 \").show()"
   ]
  },
  {
   "cell_type": "markdown",
   "metadata": {},
   "source": [
    "### Resposta: 6539 erros na conversão"
   ]
  },
  {
   "cell_type": "markdown",
   "metadata": {},
   "source": [
    "### Percentual de erros na conversao => (6539 / 3461613) * 100 => 0.18%"
   ]
  },
  {
   "cell_type": "code",
   "execution_count": 29,
   "metadata": {},
   "outputs": [
    {
     "name": "stdout",
     "output_type": "stream",
     "text": [
      "+-----+------+------------------+-----------------+-----------------+----------------+--------------------+--------+--------------------+\n",
      "|Bytes|  Data|ErroConversaoBytes|ErroConversaoData|ErroConversaoHttp|ErroConversaoUrl|                Host|HttpCode|                 Url|\n",
      "+-----+------+------------------+-----------------+-----------------+----------------+--------------------+--------+--------------------+\n",
      "|    0|01/Jul|                 1|                0|                1|               0|pipe6.nyc.pipelin...|       0|/shuttle/missions...|\n",
      "|    0|01/Jul|                 1|                0|                1|               0|columbia.acc.brad...|       0|           /ksc.html|\n",
      "|    0|01/Jul|                 1|                0|                1|               0|columbia.acc.brad...|       0|/images/ksclogo-m...|\n",
      "|    0|01/Jul|                 1|                0|                1|               0|columbia.acc.brad...|       0|/images/NASA-logo...|\n",
      "|    0|01/Jul|                 1|                0|                1|               0|columbia.acc.brad...|       0|/images/MOSAIC-lo...|\n",
      "|    0|01/Jul|                 1|                0|                1|               0|columbia.acc.brad...|       0|/images/USA-logos...|\n",
      "|    0|01/Jul|                 1|                0|                1|               0|columbia.acc.brad...|       0|/images/WORLD-log...|\n",
      "|    0|01/Jul|                 1|                0|                1|               0|     tuna.hooked.net|       0|/images/launchmed...|\n",
      "|    0|01/Jul|                 1|                0|                1|               0|     tuna.hooked.net|       0|/images/NASA-logo...|\n",
      "|    0|01/Jul|                 1|                0|                1|               0|     tuna.hooked.net|       0|/images/KSC-logos...|\n",
      "|    0|01/Jul|                 1|                0|                1|               0|     tuna.hooked.net|       0|/shuttle/missions...|\n",
      "|    0|01/Jul|                 1|                0|                1|               0|dyn1-039.cc.umani...|       0|/shuttle/missions...|\n",
      "|    0|01/Jul|                 1|                0|                1|               0|dyn1-039.cc.umani...|       0|/shuttle/missions...|\n",
      "|    0|01/Jul|                 1|                0|                1|               0|dyn1-039.cc.umani...|       0|/shuttle/missions...|\n",
      "|    0|01/Jul|                 1|                0|                1|               0|dyn1-039.cc.umani...|       0|/htbin/wais.pl?SA...|\n",
      "|    0|01/Jul|                 1|                0|                1|               0|ip-pdx5-52.telepo...|       0|/shuttle/missions...|\n",
      "|    0|01/Jul|                 1|                0|                1|               0|dyn1-039.cc.umani...|       0|           /ksc.html|\n",
      "|    0|01/Jul|                 1|                0|                1|               0|   asn20.whidbey.net|       0|/shuttle/countdow...|\n",
      "|    0|01/Jul|                 1|                0|                1|               0|   asn20.whidbey.net|       0|/shuttle/countdow...|\n",
      "|    0|01/Jul|                 1|                0|                1|               0|   asn20.whidbey.net|       0|/images/NASA-logo...|\n",
      "+-----+------+------------------+-----------------+-----------------+----------------+--------------------+--------+--------------------+\n",
      "only showing top 20 rows\n",
      "\n"
     ]
    }
   ],
   "source": [
    "sqlContext.sql(\"select * from linhasTB WHERE ErroConversaoBytes > 0 or ErroConversaoData > 0 or ErroConversaoHttp >0 or ErroConversaoUrl > 0 \").show()"
   ]
  },
  {
   "cell_type": "code",
   "execution_count": 30,
   "metadata": {},
   "outputs": [],
   "source": [
    "#Fechando o contexto\n",
    "sc.stop()"
   ]
  },
  {
   "cell_type": "markdown",
   "metadata": {},
   "source": [
    "## FIM\n",
    "## OBRIGADO"
   ]
  },
  {
   "cell_type": "code",
   "execution_count": null,
   "metadata": {},
   "outputs": [],
   "source": []
  }
 ],
 "metadata": {
  "kernelspec": {
   "display_name": "Python 3",
   "language": "python",
   "name": "python3"
  },
  "language_info": {
   "codemirror_mode": {
    "name": "ipython",
    "version": 3
   },
   "file_extension": ".py",
   "mimetype": "text/x-python",
   "name": "python",
   "nbconvert_exporter": "python",
   "pygments_lexer": "ipython3",
   "version": "3.7.4"
  }
 },
 "nbformat": 4,
 "nbformat_minor": 2
}
